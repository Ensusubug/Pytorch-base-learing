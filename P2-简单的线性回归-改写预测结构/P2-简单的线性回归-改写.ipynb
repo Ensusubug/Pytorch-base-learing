{
 "cells": [
  {
   "cell_type": "code",
   "execution_count": 1,
   "id": "6d922955",
   "metadata": {},
   "outputs": [],
   "source": [
    "import torch\n",
    "import pandas as pd\n",
    "import numpy as np\n",
    "import matplotlib.pyplot as plt"
   ]
  },
  {
   "cell_type": "code",
   "execution_count": 2,
   "id": "74adc126",
   "metadata": {},
   "outputs": [],
   "source": [
    "data = pd.read_csv('./P1-简单的线性回归-工资预测/Income1.csv')"
   ]
  },
  {
   "cell_type": "code",
   "execution_count": 3,
   "id": "64cca5aa",
   "metadata": {},
   "outputs": [
    {
     "name": "stdout",
     "output_type": "stream",
     "text": [
      "<class 'pandas.core.frame.DataFrame'>\n",
      "RangeIndex: 30 entries, 0 to 29\n",
      "Data columns (total 3 columns):\n",
      " #   Column      Non-Null Count  Dtype  \n",
      "---  ------      --------------  -----  \n",
      " 0   Unnamed: 0  30 non-null     int64  \n",
      " 1   Education   30 non-null     float64\n",
      " 2   Income      30 non-null     float64\n",
      "dtypes: float64(2), int64(1)\n",
      "memory usage: 848.0 bytes\n"
     ]
    }
   ],
   "source": [
    "data.info()"
   ]
  },
  {
   "cell_type": "code",
   "execution_count": 4,
   "id": "88a4b9fa",
   "metadata": {},
   "outputs": [
    {
     "data": {
      "image/png": "[encoded data removed]",
      "text/plain": [
       "<Figure size 432x288 with 1 Axes>"
      ]
     },
     "metadata": {
      "needs_background": "light"
     },
     "output_type": "display_data"
    }
   ],
   "source": [
    "plt.scatter(data.Education, data.Income)\n",
    "plt.xlabel('Education')\n",
    "plt.ylabel('Income')\n",
    "plt.show()"
   ]
  },
  {
   "cell_type": "code",
   "execution_count": 5,
   "id": "805bdab6",
   "metadata": {},
   "outputs": [],
   "source": [
    "from torch import nn"
   ]
  },
  {
   "cell_type": "code",
   "execution_count": 6,
   "id": "35d2e852",
   "metadata": {},
   "outputs": [],
   "source": [
    "X = torch.from_numpy(data.Education.values.reshape(-1, 1).astype(np.float32))"
   ]
  },
  {
   "cell_type": "code",
   "execution_count": 7,
   "id": "c6972962",
   "metadata": {},
   "outputs": [],
   "source": [
    "Y = torch.from_numpy(data.Income.values.reshape(-1, 1).astype(np.float32))"
   ]
  },
  {
   "cell_type": "code",
   "execution_count": 8,
   "id": "f62f6819",
   "metadata": {},
   "outputs": [],
   "source": [
    "w = torch.randn(1, requires_grad=True)\n",
    "b = torch.zeros(1, requires_grad=True)"
   ]
  },
  {
   "cell_type": "code",
   "execution_count": 9,
   "id": "8cbbd64e",
   "metadata": {},
   "outputs": [],
   "source": [
    "learing_rate = 0.0001"
   ]
  },
  {
   "cell_type": "code",
   "execution_count": 10,
   "id": "d779ef8a",
   "metadata": {},
   "outputs": [],
   "source": [
    "for epoch in range(5000):\n",
    "    for x,y in zip(X,Y):\n",
    "        y_pred = torch.matmul(x, w) + b\n",
    "        loss = (y - y_pred).pow(2).mean()\n",
    "        if not w.grad is None:\n",
    "            w.grad.data.zero_()\n",
    "        if not b.grad is None:\n",
    "            b.grad.data.zero_()\n",
    "        loss.backward()\n",
    "        with torch.no_grad():\n",
    "            w.data -= w.grad.data*learing_rate\n",
    "            b.data -= b.grad.data*learing_rate"
   ]
  },
  {
   "cell_type": "code",
   "execution_count": 11,
   "id": "646d9517",
   "metadata": {},
   "outputs": [
    {
     "data": {
      "text/plain": [
       "tensor([4.9755], requires_grad=True)"
      ]
     },
     "execution_count": 11,
     "metadata": {},
     "output_type": "execute_result"
    }
   ],
   "source": [
    "w"
   ]
  },
  {
   "cell_type": "code",
   "execution_count": 12,
   "id": "6c3a4372",
   "metadata": {},
   "outputs": [
    {
     "data": {
      "text/plain": [
       "tensor([-28.3874], requires_grad=True)"
      ]
     },
     "execution_count": 12,
     "metadata": {},
     "output_type": "execute_result"
    }
   ],
   "source": [
    "b"
   ]
  },
  {
   "cell_type": "code",
   "execution_count": null,
   "id": "3b44df42",
   "metadata": {},
   "outputs": [],
   "source": []
  },
  {
   "cell_type": "code",
   "execution_count": null,
   "id": "f1ef1969",
   "metadata": {},
   "outputs": [],
   "source": []
  },
  {
   "cell_type": "code",
   "execution_count": null,
   "id": "d08618a4",
   "metadata": {},
   "outputs": [],
   "source": []
  },
  {
   "cell_type": "code",
   "execution_count": null,
   "id": "8448d8a6",
   "metadata": {},
   "outputs": [],
   "source": []
  },
  {
   "cell_type": "code",
   "execution_count": 16,
   "id": "70e9582e",
   "metadata": {},
   "outputs": [],
   "source": [
    "opt = torch.optim.SGD(model.parameters(), lr= 0.0001)"
   ]
  },
  {
   "cell_type": "code",
   "execution_count": 18,
   "id": "5bfe9ca0",
   "metadata": {},
   "outputs": [],
   "source": [
    "for i in range(5000):\n",
    "    for x, y in zip(X, Y):\n",
    "        y_pred = model(x)\n",
    "        loss = loss_fn(y, y_pred)\n",
    "        opt.zero_grad()\n",
    "        loss.backward()\n",
    "        opt.step()"
   ]
  },
  {
   "cell_type": "code",
   "execution_count": 19,
   "id": "6bf89e7e",
   "metadata": {},
   "outputs": [
    {
     "data": {
      "text/plain": [
       "Parameter containing:\n",
       "tensor([[4.9674]], requires_grad=True)"
      ]
     },
     "execution_count": 19,
     "metadata": {},
     "output_type": "execute_result"
    }
   ],
   "source": [
    "model.weight"
   ]
  },
  {
   "cell_type": "code",
   "execution_count": 20,
   "id": "ce856781",
   "metadata": {},
   "outputs": [
    {
     "data": {
      "text/plain": [
       "Parameter containing:\n",
       "tensor([-28.2380], requires_grad=True)"
      ]
     },
     "execution_count": 20,
     "metadata": {},
     "output_type": "execute_result"
    }
   ],
   "source": [
    "model.bias"
   ]
  },
  {
   "cell_type": "code",
   "execution_count": 22,
   "id": "bbc3425d",
   "metadata": {},
   "outputs": [
    {
     "data": {
      "text/plain": [
       "[<matplotlib.lines.Line2D at 0x1b30575a8b0>]"
      ]
     },
     "execution_count": 22,
     "metadata": {},
     "output_type": "execute_result"
    },
    {
     "data": {
      "image/png": "[encoded data removed]",
      "text/plain": [
       "<Figure size 432x288 with 1 Axes>"
      ]
     },
     "metadata": {
      "needs_background": "light"
     },
     "output_type": "display_data"
    }
   ],
   "source": [
    "plt.scatter(data.Education, data.Income)\n",
    "plt.plot(X.numpy(), model(X).data.numpy(), c='r')"
   ]
  },
  {
   "cell_type": "code",
   "execution_count": null,
   "id": "797049c7",
   "metadata": {},
   "outputs": [],
   "source": []
  }
 ],
 "metadata": {
  "kernelspec": {
   "display_name": "Python 3 (ipykernel)",
   "language": "python",
   "name": "python3"
  },
  "language_info": {
   "codemirror_mode": {
    "name": "ipython",
    "version": 3
   },
   "file_extension": ".py",
   "mimetype": "text/x-python",
   "name": "python",
   "nbconvert_exporter": "python",
   "pygments_lexer": "ipython3",
   "version": "3.9.12"
  },
  "toc": {
   "base_numbering": 1,
   "nav_menu": {},
   "number_sections": true,
   "sideBar": true,
   "skip_h1_title": false,
   "title_cell": "Table of Contents",
   "title_sidebar": "Contents",
   "toc_cell": false,
   "toc_position": {},
   "toc_section_display": true,
   "toc_window_display": false
  }
 },
 "nbformat": 4,
 "nbformat_minor": 5
}
